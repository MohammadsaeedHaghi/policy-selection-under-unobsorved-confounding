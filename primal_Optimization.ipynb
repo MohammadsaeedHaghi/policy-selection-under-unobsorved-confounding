{
 "cells": [
  {
   "cell_type": "code",
   "execution_count": 13,
   "metadata": {},
   "outputs": [],
   "source": [
    "import pandas as pd\n",
    "import gurobipy as gp\n",
    "from gurobipy import GRB\n",
    "import numpy as np\n",
    "import matplotlib.pyplot as plt\n",
    "import os\n",
    "\n",
    "# Set the environment variable to point to the license file on your Desktop\n",
    "os.environ['GRB_LICENSE_FILE'] = os.path.expanduser('~/Desktop/gurobi.lic')\n"
   ]
  },
  {
   "cell_type": "markdown",
   "metadata": {},
   "source": [
    "Loading data:"
   ]
  },
  {
   "cell_type": "code",
   "execution_count": 5,
   "metadata": {},
   "outputs": [
    {
     "name": "stdout",
     "output_type": "stream",
     "text": [
      "          X  Y  T    ips NN\n",
      "0  0.496714 -1  0  2.143429\n",
      "1 -0.138264 -1  0  1.800368\n",
      "2  0.647689 -1  0  2.235371\n",
      "3  1.523030 -1  1  1.295515\n",
      "4 -0.234153  1  0  1.731747\n"
     ]
    }
   ],
   "source": [
    "data = pd.read_csv('data_observed.csv')\n",
    "data_observed = data[['X', 'Y', 'T', 'ips NN']]"
   ]
  },
  {
   "cell_type": "code",
   "execution_count": 15,
   "metadata": {},
   "outputs": [],
   "source": [
    "# Logistic function used for probability calculations\n",
    "def logistic(z):\n",
    "    \"\"\"Helper logistic function.\"\"\"\n",
    "    return 1.0 / (1.0 + np.exp(-z))\n",
    "\n",
    "# Main function to solve the Linear Program (LP)\n",
    "def solve_my_lp(df_observed, policy, epsilon_0=0.1, epsilon_1=0.1, Gamma=2.0):\n",
    "\n",
    "\n",
    "    # Initialize Gurobi model\n",
    "    m = gp.Model(\"MyLP\")\n",
    "    m.setParam(\"OutputFlag\", 0)  # Suppress solver output\n",
    "\n",
    "    # Extract data from DataFrame\n",
    "    X_vals = df_observed[\"X\"].values\n",
    "    T_vals = df_observed[\"T\"].values\n",
    "    Y_vals = df_observed[\"Y\"].values\n",
    "    hat_w  = df_observed[\"ips NN\"].values\n",
    "    n = len(df_observed)\n",
    "\n",
    "    # Index sets\n",
    "    I = range(n)\n",
    "    I0 = [i for i in I if T_vals[i] == 0]  # Control group\n",
    "    I1 = [i for i in I if T_vals[i] == 1]  # Treatment group\n",
    "\n",
    "\n",
    "\n",
    "    # Distance function for constraints\n",
    "    def d(i, j):\n",
    "        return (X_vals[i] - X_vals[j]) ** 2\n",
    "\n",
    "    eps = {0: epsilon_0, 1: epsilon_1}  # Epsilon values for constraints\n",
    "\n",
    "    # Decision variables: w_i >= 0\n",
    "    w_vars = m.addVars(n, lb=0, name=\"w\")\n",
    "\n",
    "    # Decision variables: zeta_{ij}^t >= 0\n",
    "    zeta_vars = {}\n",
    "    for t in [0, 1]:\n",
    "        for i_ in I:\n",
    "            for j_ in I:\n",
    "                if (t == 0 and j_ in I0) or (t == 1 and j_ in I1):\n",
    "                    zeta_vars[(t, i_, j_)] = m.addVar(lb=0.0, name=f\"zeta_{t}_{i_}_{j_}\")\n",
    "\n",
    "    # Objective function\n",
    "    obj_expr = gp.LinExpr()\n",
    "    for i_ in I0:\n",
    "        obj_expr.addTerms(policy[0,i_] * Y_vals[i_], w_vars[i_])\n",
    "    for i_ in I1:\n",
    "        obj_expr.addTerms(policy[1,i_] * Y_vals[i_], w_vars[i_])\n",
    "    obj_expr = (1.0 / n) * obj_expr\n",
    "    m.setObjective(obj_expr, GRB.MINIMIZE)\n",
    "\n",
    "\n",
    "    # Distance constraints\n",
    "    for t in [0, 1]:\n",
    "        for j_ in I:\n",
    "            if (t == 0 and j_ in I0) or (t == 1 and j_ in I1):\n",
    "                m.addConstr(\n",
    "                    gp.quicksum(d(i_, j_) * zeta_vars[(t, i_, j_)] for i_ in I) <= eps[t],\n",
    "                    name=f\"d_constraint_t{t}_j{j_}\"\n",
    "                )\n",
    "\n",
    "    # Constraints for zeta sums\n",
    "    for t in [0, 1]:\n",
    "        for i_ in I:\n",
    "            m.addConstr(\n",
    "                gp.quicksum(zeta_vars[(t, i_, j_)] for j_ in (I0 if t == 0 else I1)) == 1.0 / n,\n",
    "                name=f\"zeta_sum_t{t}_i{i_}\"\n",
    "            )\n",
    "\n",
    "    # Linking constraints between w and zeta\n",
    "    for t in [0, 1]:\n",
    "        for j_ in (I0 if t == 0 else I1):\n",
    "          m.addConstr(\n",
    "                w_vars[j_]/(sum(hat_w)) == gp.quicksum(zeta_vars[(t, i_, j_)] for i_ in I),\n",
    "                name=f\"w_link_{t}_j{j_}\"\n",
    "          )\n",
    "\n",
    "    # Gamma-based constraints\n",
    "    for i_ in I:\n",
    "        m.addConstr(w_vars[i_] >= 1.0 + (1.0 / Gamma) * (hat_w[i_] - 1.0), name=f\"Gamma_lower_{i_}\")\n",
    "        m.addConstr(w_vars[i_] <= 1.0 + Gamma * (hat_w[i_] - 1.0), name=f\"Gamma_upper_{i_}\")\n",
    "\n",
    "    # Optimize the model\n",
    "    m.optimize()\n",
    "\n",
    "\n",
    "\n",
    "    # Retrieve results if the solution is optimal\n",
    "    if m.status == GRB.OPTIMAL:\n",
    "        obj_val = m.objVal\n",
    "        #print(f\"Optimal objective value = {obj_val:.4f}\")\n",
    "\n",
    "        # Retrieve w variables\n",
    "        w_sol = np.array([w_vars[i_].X for i_ in I])\n",
    "        #print(\"Optimal w:\", w_sol)\n",
    "\n",
    "        # Retrieve zeta variables\n",
    "        zeta_sol = {}\n",
    "        for t in [0, 1]:\n",
    "            for i_ in I:\n",
    "                for j_ in I:\n",
    "                    if (t == 0 and j_ in I0) or (t == 1 and j_ in I1):\n",
    "                        zeta_sol[(t, i_, j_)] = zeta_vars[(t, i_, j_)].X\n",
    "\n",
    "        return {\n",
    "            \"objective_value\": obj_val,\n",
    "            \"w\": w_sol,\n",
    "            \"zeta\": zeta_sol\n",
    "        }\n",
    "    else:\n",
    "        print(f\"Model ended with non-OPTIMAL status: {m.status}\")\n",
    "        return None\n",
    "\n"
   ]
  },
  {
   "cell_type": "markdown",
   "metadata": {},
   "source": [
    "Solving the primal problem"
   ]
  },
  {
   "cell_type": "code",
   "execution_count": 19,
   "metadata": {},
   "outputs": [
    {
     "name": "stdout",
     "output_type": "stream",
     "text": [
      "Solving for Gamma = 1\n",
      "Model ended with non-OPTIMAL status: 4\n",
      "Solving for Gamma = 2\n",
      "Model ended with non-OPTIMAL status: 4\n",
      "Solving for Gamma = 3\n",
      "Model ended with non-OPTIMAL status: 4\n"
     ]
    },
    {
     "data": {
      "image/png": "[encoded data removed]",
      "text/plain": [
       "<Figure size 800x500 with 1 Axes>"
      ]
     },
     "metadata": {},
     "output_type": "display_data"
    }
   ],
   "source": [
    "# Define the range of Gamma values (1 to 14)\n",
    "Gamma_values = np.arange(1, 4)\n",
    "\n",
    "# Define the sample policy (uniform 0.5 for all observations)\n",
    "sample_policy = np.full((2, len(data_observed)), 0.5)\n",
    "\n",
    "# Store objective values for each Gamma\n",
    "objective_values = []\n",
    "\n",
    "# Solve the optimization problem for each Gamma\n",
    "for Gamma in Gamma_values:\n",
    "    print(f\"Solving for Gamma = {Gamma}\")\n",
    "\n",
    "    solution = solve_my_lp(\n",
    "        data_observed,\n",
    "        sample_policy,\n",
    "        epsilon_0=0.1,\n",
    "        epsilon_1=0.1,\n",
    "        Gamma=Gamma,\n",
    "    )\n",
    "\n",
    "    # Extract the objective value if solution is valid, otherwise store NaN\n",
    "    obj_val = solution.get(\"objective_value\", np.nan) if solution else np.nan\n",
    "    objective_values.append(obj_val)\n",
    "\n",
    "# Plot results\n",
    "plt.figure(figsize=(8, 5))\n",
    "plt.plot(Gamma_values, objective_values, marker='o', linestyle='-', label=\"Objective Value\")\n",
    "\n",
    "plt.xlabel('Gamma')\n",
    "plt.ylabel('Objective Value')\n",
    "plt.title('Objective Value vs Gamma')\n",
    "plt.legend()\n",
    "plt.grid(True)\n",
    "plt.show()"
   ]
  },
  {
   "cell_type": "code",
   "execution_count": 20,
   "metadata": {},
   "outputs": [
    {
     "ename": "AttributeError",
     "evalue": "'list' object has no attribute 'to_csv'",
     "output_type": "error",
     "traceback": [
      "\u001b[0;31m---------------------------------------------------------------------------\u001b[0m",
      "\u001b[0;31mAttributeError\u001b[0m                            Traceback (most recent call last)",
      "Cell \u001b[0;32mIn[20], line 1\u001b[0m\n\u001b[0;32m----> 1\u001b[0m \u001b[43mobjective_values\u001b[49m\u001b[38;5;241;43m.\u001b[39;49m\u001b[43mto_csv\u001b[49m(\u001b[38;5;124m'\u001b[39m\u001b[38;5;124mobjective_values_primal.csv\u001b[39m\u001b[38;5;124m'\u001b[39m, index\u001b[38;5;241m=\u001b[39m\u001b[38;5;28;01mFalse\u001b[39;00m)\n",
      "\u001b[0;31mAttributeError\u001b[0m: 'list' object has no attribute 'to_csv'"
     ]
    }
   ],
   "source": [
    "objective_values.to_csv('objective_values_primal.csv', index=False)"
   ]
  }
 ],
 "metadata": {
  "kernelspec": {
   "display_name": "Python 3",
   "language": "python",
   "name": "python3"
  },
  "language_info": {
   "codemirror_mode": {
    "name": "ipython",
    "version": 3
   },
   "file_extension": ".py",
   "mimetype": "text/x-python",
   "name": "python",
   "nbconvert_exporter": "python",
   "pygments_lexer": "ipython3",
   "version": "3.9.6"
  }
 },
 "nbformat": 4,
 "nbformat_minor": 2
}
