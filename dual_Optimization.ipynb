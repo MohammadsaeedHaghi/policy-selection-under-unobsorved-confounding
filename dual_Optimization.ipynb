{
 "cells": [
  {
   "cell_type": "code",
   "execution_count": 1,
   "metadata": {},
   "outputs": [],
   "source": [
    "import pandas as pd\n",
    "import gurobipy as gp\n",
    "from gurobipy import GRB\n",
    "import numpy as np\n",
    "import matplotlib.pyplot as plt\n",
    "import os\n",
    "\n",
    "# Set the environment variable to point to the license file on your Desktop\n",
    "os.environ['GRB_LICENSE_FILE'] = os.path.expanduser('~/Desktop/gurobi.lic')\n"
   ]
  },
  {
   "cell_type": "markdown",
   "metadata": {},
   "source": [
    "Loading data:"
   ]
  },
  {
   "cell_type": "code",
   "execution_count": 2,
   "metadata": {},
   "outputs": [],
   "source": [
    "data = pd.read_csv('data_observed.csv')\n",
    "data_observed = data[['X', 'Y', 'T', 'ips NN']]"
   ]
  },
  {
   "cell_type": "code",
   "execution_count": 27,
   "metadata": {},
   "outputs": [],
   "source": [
    "def logistic(z):\n",
    "    return 1.0 / (1.0 + np.exp(-z))\n",
    "\n",
    "def solve_dual_lp(df_observed, policy, epsilon_0 = 0.1, epsilon_1 = 0.1, Gamma = 2):\n",
    "    m = gp.Model(\"DualLP\")\n",
    "    m.setParam(\"OutputFlag\", 0)  # Suppress solver output\n",
    "\n",
    "\n",
    "    X_vals = df_observed[\"X\"].values\n",
    "    T_vals = df_observed[\"T\"].values\n",
    "    Y_vals = df_observed[\"Y\"].values\n",
    "    w_hat  = df_observed[\"ips NN\"].values\n",
    "    n = len(df_observed)\n",
    "    I = range(n)\n",
    "\n",
    "\n",
    "    I0 = [i for i in I if T_vals[i] == 0]\n",
    "    I1 = [i for i in I if T_vals[i] == 1]\n",
    "    Tset = [0, 1]\n",
    "\n",
    "\n",
    "    \n",
    "    def d(i, j):\n",
    "        return (X_vals[i] - X_vals[j])**2\n",
    "    \n",
    "\n",
    "    eps = {0: epsilon_0, 1: epsilon_1}\n",
    "\n",
    "    # Decision variables\n",
    "\n",
    "    beta, gamma, theta, mu, nu = {}, {}, {}, {}, {}\n",
    "\n",
    "    for t in Tset:\n",
    "        beta[t] = m.addVar(lb=0.0, name=f\"beta_{t}\")\n",
    "\n",
    "    for t in Tset:\n",
    "        for i_ in I:\n",
    "            gamma[(t, i_)] = m.addVar(lb = -GRB.INFINITY, name=f\"gamma_{t}_{i_}\")\n",
    "    for t in Tset:\n",
    "        for i_ in (I0 if t==0 else I1):\n",
    "            theta[(t, i_)] = m.addVar(lb = -GRB.INFINITY, name=f\"theta_{t}_{i_}\")\n",
    "\n",
    "    for i_ in I:\n",
    "        mu[i_] = m.addVar(lb=0.0, name=f\"mu_{i_}\")\n",
    "        nu[i_] = m.addVar(lb=0.0, name=f\"nu_{i_}\")\n",
    "\n",
    "    # Objective\n",
    "    obj_expr = gp.LinExpr()\n",
    "    for t in Tset:\n",
    "       obj_expr.addTerms(-eps[t], beta[t])\n",
    "    for t in Tset:\n",
    "        for i_ in I:\n",
    "            obj_expr.addTerms(1.0 / n, gamma[(t, i_)])\n",
    "    for i_ in I:\n",
    "        obj_expr.addTerms((1.0 + (1.0 / Gamma)*(w_hat[i_] - 1.0)), mu[i_])\n",
    "        obj_expr.addTerms(-(1.0 + Gamma*(w_hat[i_] - 1.0)), nu[i_])\n",
    "\n",
    "\n",
    "    m.setObjective(obj_expr, GRB.MAXIMIZE)\n",
    "\n",
    "    \n",
    "\n",
    "    # Constraints\n",
    "    for t in Tset:\n",
    "        for i_ in (I0 if t == 0 else I1):\n",
    "            lhs = gp.LinExpr()\n",
    "            lhs += (1.0 / n) * policy[t,i_] * Y_vals[i_]\n",
    "            lhs.addTerms(1 / (sum(w_hat)) , theta[(t, i_)])\n",
    "            lhs.addTerms(-1.0, mu[i_])\n",
    "            lhs.addTerms(1.0, nu[i_])\n",
    "            m.addConstr(lhs >= 0, name=f\"cA_t{t}_i{i_}\")\n",
    "\n",
    "\n",
    "    for t in Tset:\n",
    "        for j_ in (I0 if t == 0 else I1):\n",
    "            for i_ in I:\n",
    "                lhs = gp.LinExpr()\n",
    "                lhs.addTerms(d(i_, j_), beta[t])\n",
    "                lhs.addTerms(-1.0, gamma[(t, i_)])\n",
    "                lhs.addTerms(-1.0, theta[(t, j_)])\n",
    "                m.addConstr(lhs >= 0, name=f\"cB_t{t}_i{i_}_j{j_}\")\n",
    "\n",
    "\n",
    "    # Solve\n",
    "    m.optimize()\n",
    "\n",
    "    # Retrieve solution\n",
    "    if m.status == GRB.OPTIMAL:\n",
    "        return {\n",
    "            \"objective_value\": m.objVal,\n",
    "            \"beta\": {t: beta[t].X for t in Tset},\n",
    "            \"gamma\": {(t, i_): gamma[(t, i_)].X for t in Tset for i_ in I},\n",
    "            \"theta\": {(t, i_): theta[(t, i_)].X for t in Tset for i_ in (I0 if t==0 else I1)},\n",
    "            \"mu\": {i_: mu[i_].X for i_ in I},\n",
    "            \"nu\": {i_: nu[i_].X for i_ in I}\n",
    "        }\n",
    "    else:\n",
    "        print(f\"Model ended with non-OPTIMAL status: {m.status}\")\n",
    "        return None\n"
   ]
  },
  {
   "cell_type": "code",
   "execution_count": 26,
   "metadata": {},
   "outputs": [
    {
     "name": "stdout",
     "output_type": "stream",
     "text": [
      "Solving dual LP for Gamma = 1\n"
     ]
    },
    {
     "ename": "KeyboardInterrupt",
     "evalue": "",
     "output_type": "error",
     "traceback": [
      "\u001b[0;31m---------------------------------------------------------------------------\u001b[0m",
      "\u001b[0;31mKeyboardInterrupt\u001b[0m                         Traceback (most recent call last)",
      "Cell \u001b[0;32mIn[26], line 13\u001b[0m\n\u001b[1;32m     11\u001b[0m \u001b[38;5;28;01mfor\u001b[39;00m Gamma \u001b[38;5;129;01min\u001b[39;00m Gamma_values:\n\u001b[1;32m     12\u001b[0m     \u001b[38;5;28mprint\u001b[39m(\u001b[38;5;124mf\u001b[39m\u001b[38;5;124m\"\u001b[39m\u001b[38;5;124mSolving dual LP for Gamma = \u001b[39m\u001b[38;5;132;01m{\u001b[39;00mGamma\u001b[38;5;132;01m}\u001b[39;00m\u001b[38;5;124m\"\u001b[39m)\n\u001b[0;32m---> 13\u001b[0m     sol \u001b[38;5;241m=\u001b[39m \u001b[43msolve_dual_lp\u001b[49m\u001b[43m(\u001b[49m\u001b[43mdata_observed\u001b[49m\u001b[43m,\u001b[49m\u001b[43m \u001b[49m\u001b[43msample_policy\u001b[49m\u001b[43m,\u001b[49m\u001b[43m \u001b[49m\u001b[43mGamma\u001b[49m\u001b[38;5;241;43m=\u001b[39;49m\u001b[43mGamma\u001b[49m\u001b[43m)\u001b[49m\n\u001b[1;32m     14\u001b[0m     \u001b[38;5;28;01mif\u001b[39;00m sol \u001b[38;5;129;01mis\u001b[39;00m \u001b[38;5;129;01mnot\u001b[39;00m \u001b[38;5;28;01mNone\u001b[39;00m:\n\u001b[1;32m     15\u001b[0m         obj_val \u001b[38;5;241m=\u001b[39m sol[\u001b[38;5;124m\"\u001b[39m\u001b[38;5;124mobjective_value\u001b[39m\u001b[38;5;124m\"\u001b[39m]\n",
      "Cell \u001b[0;32mIn[25], line 79\u001b[0m, in \u001b[0;36msolve_dual_lp\u001b[0;34m(df_observed, policy, epsilon_0, epsilon_1, Gamma)\u001b[0m\n\u001b[1;32m     77\u001b[0m lhs \u001b[38;5;241m=\u001b[39m gp\u001b[38;5;241m.\u001b[39mLinExpr()\n\u001b[1;32m     78\u001b[0m lhs\u001b[38;5;241m.\u001b[39maddTerms(d(i_, j_), beta[t])\n\u001b[0;32m---> 79\u001b[0m lhs\u001b[38;5;241m.\u001b[39maddTerms(\u001b[38;5;241m-\u001b[39m\u001b[38;5;241m1.0\u001b[39m, gamma[(t, i_)])\n\u001b[1;32m     80\u001b[0m lhs\u001b[38;5;241m.\u001b[39maddTerms(\u001b[38;5;241m-\u001b[39m\u001b[38;5;241m1.0\u001b[39m, theta[(t, j_)])\n\u001b[1;32m     81\u001b[0m m\u001b[38;5;241m.\u001b[39maddConstr(lhs \u001b[38;5;241m>\u001b[39m\u001b[38;5;241m=\u001b[39m \u001b[38;5;241m0\u001b[39m, name\u001b[38;5;241m=\u001b[39m\u001b[38;5;124mf\u001b[39m\u001b[38;5;124m\"\u001b[39m\u001b[38;5;124mcB_t\u001b[39m\u001b[38;5;132;01m{\u001b[39;00mt\u001b[38;5;132;01m}\u001b[39;00m\u001b[38;5;124m_i\u001b[39m\u001b[38;5;132;01m{\u001b[39;00mi_\u001b[38;5;132;01m}\u001b[39;00m\u001b[38;5;124m_j\u001b[39m\u001b[38;5;132;01m{\u001b[39;00mj_\u001b[38;5;132;01m}\u001b[39;00m\u001b[38;5;124m\"\u001b[39m)\n",
      "\u001b[0;31mKeyboardInterrupt\u001b[0m: "
     ]
    }
   ],
   "source": [
    "# Define the range of Gamma values (for example, from 1 to 10)\n",
    "Gamma_values = np.arange(1, 15)\n",
    "\n",
    "# List to store the dual objective values for each Gamma\n",
    "objective_values = []\n",
    "\n",
    "# Define the sample policy (uniform 0.5 for all observations)\n",
    "sample_policy = np.full((2, len(data_observed)), 0.5)\n",
    "\n",
    "# Loop over the Gamma values\n",
    "for Gamma in Gamma_values:\n",
    "    print(f\"Solving dual LP for Gamma = {Gamma}\")\n",
    "    sol = solve_dual_lp(data_observed, sample_policy, Gamma=Gamma)\n",
    "    if sol is not None:\n",
    "        obj_val = sol[\"objective_value\"]\n",
    "    else:\n",
    "        obj_val = np.nan  # Changed from NAN to nan\n",
    "    objective_values.append(obj_val)\n",
    "    print(f\"Gamma = {Gamma}, Objective Value = {obj_val}\\n\")\n",
    "\n",
    "# Plot the objective values versus Gamma\n",
    "plt.figure(figsize=(8, 5))\n",
    "plt.plot(Gamma_values, objective_values, marker='o', linestyle='-')\n",
    "plt.xlabel('Gamma')\n",
    "plt.ylabel('Dual Objective Value')\n",
    "plt.title('Dual Objective Value vs Gamma')\n",
    "plt.grid(True)\n",
    "plt.show()"
   ]
  },
  {
   "cell_type": "code",
   "execution_count": 24,
   "metadata": {},
   "outputs": [],
   "source": [
    "objective_values_df = pd.DataFrame({\n",
    "    'Gamma': Gamma_values,\n",
    "    'Objective_Value': objective_values\n",
    "})\n",
    "\n",
    "# Save to CSV\n",
    "objective_values_df.to_csv('objective_values_dual.csv', index=False)"
   ]
  }
 ],
 "metadata": {
  "kernelspec": {
   "display_name": "Python 3",
   "language": "python",
   "name": "python3"
  },
  "language_info": {
   "codemirror_mode": {
    "name": "ipython",
    "version": 3
   },
   "file_extension": ".py",
   "mimetype": "text/x-python",
   "name": "python",
   "nbconvert_exporter": "python",
   "pygments_lexer": "ipython3",
   "version": "3.9.6"
  }
 },
 "nbformat": 4,
 "nbformat_minor": 2
}
